{
 "cells": [
  {
   "cell_type": "markdown",
   "metadata": {},
   "source": [
    "SOLUCION DE ECUACIONES NO LINEALES"
   ]
  },
  {
   "cell_type": "markdown",
   "metadata": {},
   "source": [
    "METODO DE BISECCION  \n",
    "\n",
    "Es un algoritmo utilizado para encontrar la solución de una ecuación no lineal en un intervalo dado. Funciona gracias al teorema de Bolzano, que establece que, si una función continua tiene signos opuestos en los extremos de un intervalo, entonces debe haber al menos una solución en ese intervalo. \n",
    "\n",
    "Teniendo en cuenta la idea anterior se escoge un intervalo [a,b] donde se crea que se encuentra la solución, de forma que se cumpla que f(a)*f(b) < 0 de esta se forma se confirma que hay un cero en el intervalo. Luego se saca el punto medio de a y b al cual llamaremos punto c. Observaremos el signo de c, y este será el reemplazo del extremo del intervalo cuyo signo sea igual al del punto c, de esta forma obtenemos un método iterativo donde el punto c convergerá a la solución dentro del intervalo"
   ]
  },
  {
   "cell_type": "code",
   "execution_count": null,
   "metadata": {},
   "outputs": [],
   "source": [
    "function biseccion(f :: Function, a:: Number, b:: Number, tol :: AbstractFloat = 1e-5) #parametros: ecuacion no linel, el intervalo, la tolerancia y la cantidad maxima de iteraciones \n",
    "    puntoMedio = 0\n",
    "    iter = 100\n",
    "    error = (b-a)/2 # Forma del error en el metodo de biseccion (Xnueva - Xanterior)/Xnueva\n",
    "    n = 0 # cantidad de iteraciones\n",
    "\n",
    "    while error > tol  # ciclo que se detiene al momemento de que la tolerancia supere al error maximo\n",
    "        puntoMedio = (a+b)/2 # Punto medio del intervalo\n",
    "        if (f(a) * f(puntoMedio) < 0) # Comprueba el signo del producto de las imagenes del punto medio y los extremos donde se cambia el intervalo segun corresponda\n",
    "            b = puntoMedio\n",
    "        else\n",
    "            a = puntoMedio\n",
    "        end\n",
    "        error = (b-a)/2 # El nuevo error que se generara con el intervalo modificado \n",
    "        n = n +1\n",
    "        println([puntoMedio, error]) # Muestra las soluciones de cada interacion junto con el error que se comete en cada una de ellas \n",
    "        if n > iter #if que termina el ciclo en caso de superar las iteraciones deseadas\n",
    "            break\n",
    "        end \n",
    "    end\n",
    "    return puntoMedio\n",
    "end\n",
    "\n",
    "#Ejemplo 1\n",
    "biseccion(x -> exp(x) - sin(3*x) -2, 0,1)\n",
    "\n"
   ]
  },
  {
   "cell_type": "markdown",
   "metadata": {},
   "source": [
    "METODO DE NEWTON \n"
   ]
  }
 ],
 "metadata": {
  "kernelspec": {
   "display_name": "Julia 1.9.2",
   "language": "julia",
   "name": "julia-1.9"
  },
  "language_info": {
   "file_extension": ".jl",
   "mimetype": "application/julia",
   "name": "julia",
   "version": "1.9.2"
  },
  "orig_nbformat": 4
 },
 "nbformat": 4,
 "nbformat_minor": 2
}
