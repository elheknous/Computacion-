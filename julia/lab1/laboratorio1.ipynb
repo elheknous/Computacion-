{
 "cells": [
  {
   "cell_type": "markdown",
   "metadata": {},
   "source": [
    "INTEGRACION NUMERICA"
   ]
  },
  {
   "cell_type": "code",
   "execution_count": 26,
   "metadata": {},
   "outputs": [
    {
     "data": {
      "text/plain": [
       "grafica (generic function with 1 method)"
      ]
     },
     "metadata": {},
     "output_type": "display_data"
    }
   ],
   "source": [
    "using Plots\n",
    "# Funcion para realizar el grafico de las integrales\n",
    "\n",
    "function grafica(df,a,b) # parametros: funcion e intervalo de integracion\n",
    "    x_true = LinRange(a,b,100) \n",
    "    x_trap = LinRange(a,b,10)\n",
    "\n",
    "    plot(x_trap,df.(x_trap),fillrange=0,label=\"Integral\") #Integral\n",
    "    plot!(x_true,df.(x_true),line=4,legend=:bottomright,label=\"Function values\") #Valores de la funcion\n",
    "    \n",
    "end"
   ]
  },
  {
   "cell_type": "markdown",
   "metadata": {},
   "source": [
    "REGLA DEL TRAPEZOIDE \n",
    "\n",
    "En esencia, la técnica consiste en dividir el intervalo total en intervalos pequeños y aproximar la curva Y = f(X) en los diversos intervalos pequeños mediante alguna curva más simple cuya integral puede calcularse utilizando solamente las ordenadas de los puntos extremos de los intervalos."
   ]
  },
  {
   "cell_type": "code",
   "execution_count": 27,
   "metadata": {},
   "outputs": [
    {
     "data": {
      "text/plain": [
       "quad_trap (generic function with 1 method)"
      ]
     },
     "metadata": {},
     "output_type": "display_data"
    }
   ],
   "source": [
    "using Printf\n",
    "using Plots\n",
    "\n",
    "\n",
    "function quad_trap(f,a,b,N) #Parametros: funcion, intervalo y cantidad de puntos\n",
    "    h = (b-a)/N #Distancia entre intervalos \n",
    "    int = h * ( f(a) + f(b) ) / 2 #Area de cada trapezoide\n",
    "    for k=1:N-1 \n",
    "        xk = (b-a) * k/N + a\n",
    "        int = int + h*f(xk)\n",
    "    end\n",
    "    return int\n",
    "end"
   ]
  },
  {
   "cell_type": "code",
   "execution_count": 48,
   "metadata": {},
   "outputs": [
    {
     "name": "stdout",
     "output_type": "stream",
     "text": [
      "  0.000057 seconds\n"
     ]
    },
    {
     "data": {
      "text/plain": [
       "2.3108991453664047"
      ]
     },
     "metadata": {},
     "output_type": "display_data"
    }
   ],
   "source": [
    "#Ejemplo 1 \n",
    "g(x) = (x^3)/sqrt(1+x) #Funcion\n",
    "@time quad_trap(g,1,2,10000) "
   ]
  },
  {
   "cell_type": "markdown",
   "metadata": {},
   "source": []
  },
  {
   "cell_type": "code",
   "execution_count": null,
   "metadata": {},
   "outputs": [],
   "source": [
    "grafica(g,1,2) "
   ]
  },
  {
   "cell_type": "code",
   "execution_count": 55,
   "metadata": {},
   "outputs": [
    {
     "name": "stdout",
     "output_type": "stream",
     "text": [
      "  0.000432 seconds\n"
     ]
    },
    {
     "data": {
      "text/plain": [
       "7.325635176988611"
      ]
     },
     "metadata": {},
     "output_type": "display_data"
    }
   ],
   "source": [
    "#EJEMPLO 2\n",
    "f(x) = exp(cos(x)^3) #Funcion\n",
    "@time quad_trap(f,0,2π,10000);\n",
    "valor"
   ]
  },
  {
   "cell_type": "code",
   "execution_count": null,
   "metadata": {},
   "outputs": [],
   "source": [
    "grafica(f,0,2pi)"
   ]
  },
  {
   "cell_type": "markdown",
   "metadata": {},
   "source": [
    "METODO DE SIMPSON\n",
    "\n",
    "Es un método para aproximar el valor de una integral definida la cual sea difícil de resolver analíticamente  \n",
    "\n",
    "Primero se divide el intervalo de integración [a, b] en un número par de subintervalos de igual  longitud.  Cuanto  más  pequeños  sean  estos  subintervalos,  más  precisa  será  la aproximación. Los subintervalos se llaman h, donde h = (b - a) / n, y n es un número par. \n",
    "\n",
    "Luego se aplica la siguiente formula:\n",
    "\n",
    "(imagen.png adjunta)\n",
    "\n",
    "Donde delta x = h "
   ]
  },
  {
   "cell_type": "code",
   "execution_count": 32,
   "metadata": {},
   "outputs": [
    {
     "data": {
      "text/plain": [
       "sinson (generic function with 1 method)"
      ]
     },
     "metadata": {},
     "output_type": "display_data"
    }
   ],
   "source": [
    "function sinson(df,a,b,n) #parametros: funcion, limite inferior y superior, \"n de rectangulos\"\n",
    "    h = (b-a)/n #distancia/delta x\n",
    "    xi0 = df(a) + df(b) # suma de las imagenes de los limites\n",
    "    xi1 = 0 # Contiene la suma cuando el coeficiente es impar\n",
    "    xi2 = 0 # Contiene la suma cuando el coeficiente es par\n",
    "    for i in 1:n-1\n",
    "        x = a + i*h # Siguiente punto a evaluar\n",
    "        if i%2 == 0 \n",
    "            xi2 += df(x) #coeficiente par\n",
    "        else\n",
    "            xi1 += df(x) #coeficiente impar\n",
    "        end\n",
    "    end\n",
    "    xi = h*(xi0 + 2*xi2 + 4*xi1)/3 #Area\n",
    "    return xi\n",
    "end"
   ]
  },
  {
   "cell_type": "code",
   "execution_count": 33,
   "metadata": {},
   "outputs": [
    {
     "name": "stdout",
     "output_type": "stream",
     "text": [
      "  0.000002 seconds\n"
     ]
    },
    {
     "data": {
      "text/plain": [
       "2.3108982272485608"
      ]
     },
     "metadata": {},
     "output_type": "display_data"
    }
   ],
   "source": [
    "#Ejemplo 1\n",
    "f(x) = (x^3)/sqrt(1+x) \n",
    "@time sinson(g,1,2,8)\n"
   ]
  },
  {
   "cell_type": "code",
   "execution_count": 34,
   "metadata": {},
   "outputs": [
    {
     "name": "stdout",
     "output_type": "stream",
     "text": [
      "  0.000371 seconds\n"
     ]
    },
    {
     "data": {
      "text/plain": [
       "7.3256351769886505"
      ]
     },
     "metadata": {},
     "output_type": "display_data"
    }
   ],
   "source": [
    "#Ejemplo 2\n",
    "g(x) = exp(cos(x)^3)\n",
    "@time sinson(g,0,2pi,10000)\n"
   ]
  },
  {
   "cell_type": "markdown",
   "metadata": {},
   "source": [
    "GAUSS-KRONROD\n",
    "\n",
    "es un metodo en donde los puntos de evaluación se eligen de modo que se pueda calcular una aproximación precisa reutilizando la información producida por el cálculo de una aproximación menos precisa"
   ]
  },
  {
   "cell_type": "code",
   "execution_count": 36,
   "metadata": {},
   "outputs": [
    {
     "data": {
      "text/plain": [
       "(7.325635176988653, 8.329792411387871e-11)"
      ]
     },
     "metadata": {},
     "output_type": "display_data"
    },
    {
     "name": "stdout",
     "output_type": "stream",
     "text": [
      "  0.478484 seconds (203.16 k allocations: 12.185 MiB, 99.98% compilation time: 100% of which was recompilation)\n"
     ]
    }
   ],
   "source": [
    "using QuadGK\n",
    "f(x) = exp(cos(x)^3) #Funcion\n",
    "a=0 #limite inferion\n",
    "b=2pi #limite superior\n",
    "@time I,est = quadgk(f, a, b, rtol=1e-8) #uso de la libreria\n",
    "# retorna el valor de la integral y el error cometido"
   ]
  },
  {
   "cell_type": "markdown",
   "metadata": {},
   "source": [
    "Al momento de medir la eficiencia de los tres métodos presentados se puede notar que el método del trapecio y de Simpson son bastante más rápido que usando la librería QuadGK, sin embargo si nos interesa una mayor exactitud en vez de una mayor eficiencia tal vez el uso de la librería sea el mas adecuado debido a que también entrega el error cometido "
   ]
  },
  {
   "cell_type": "markdown",
   "metadata": {},
   "source": [
    "SOLUCION DE ECUACIONES NO LINEALES"
   ]
  },
  {
   "cell_type": "markdown",
   "metadata": {},
   "source": [
    "METODO DE BISECCION  \n",
    "\n",
    "Es un algoritmo utilizado para encontrar la solución de una ecuación no lineal en un intervalo dado. Funciona gracias al teorema de Bolzano, que establece que si una función continua tiene signos opuestos en los extremos de un intervalo, entonces debe haber al menos una solución en ese intervalo. \n",
    "\n",
    "Teniendo en cuenta la idea anterior se escoge un intervalo [a,b] donde se crea que se encuentra la solución, de forma que se cumpla que f(a)*f(b) < 0 de esta se forma se confirma que hay un cero en el intervalo. Luego se saca el punto medio de a y b al cual llamaremos punto c. Observaremos el signo de c, y este será el reemplazo del extremo del intervalo cuyo signo sea igual al del punto c, de esta forma obtenemos un método iterativo donde el punto c convergerá a la solución dentro del intervalo si es que la solucion existe"
   ]
  },
  {
   "cell_type": "code",
   "execution_count": 38,
   "metadata": {},
   "outputs": [
    {
     "data": {
      "text/plain": [
       "biseccion (generic function with 2 methods)"
      ]
     },
     "metadata": {},
     "output_type": "display_data"
    }
   ],
   "source": [
    "function biseccion(f :: Function, a:: Number, b:: Number, tol :: AbstractFloat = 1e-5) #parametros: ecuacion no linel, el intervalo, la tolerancia y la cantidad maxima de iteraciones \n",
    "    puntoMedio = 0\n",
    "    iter = 100\n",
    "    error = (b-a)/2 # Forma del error en el metodo de biseccion (Xnueva - Xanterior)/Xnueva\n",
    "    n = 0 # cantidad de iteraciones\n",
    "\n",
    "    while error > tol  # ciclo que se detiene al momemento de que la tolerancia supere al error maximo\n",
    "        puntoMedio = (a+b)/2 # Punto medio del intervalo\n",
    "        if (f(a) * f(puntoMedio) < 0) # Comprueba el signo del producto de las imagenes del punto medio y los extremos donde se cambia el intervalo segun corresponda\n",
    "            b = puntoMedio\n",
    "        else\n",
    "            a = puntoMedio\n",
    "        end\n",
    "        error = (b-a)/2 # El nuevo error que se generara con el intervalo modificado \n",
    "        n = n +1\n",
    "        println([puntoMedio, error]) # Muestra las soluciones de cada interacion junto con el error que se comete en cada una de ellas \n",
    "        if n > iter #if que termina el ciclo en caso de superar las iteraciones deseadas\n",
    "            break\n",
    "        end \n",
    "    end\n",
    "    return puntoMedio\n",
    "end\n",
    "\n",
    "\n",
    "# Finalmente la funcion devuelve los resultados en cada iteracion y su respectivo error.\n"
   ]
  },
  {
   "cell_type": "code",
   "execution_count": 39,
   "metadata": {},
   "outputs": [
    {
     "name": "stdout",
     "output_type": "stream",
     "text": [
      "[0.5, 0.25]\n",
      "[0.75, 0.125]\n",
      "[0.875, 0.0625]\n",
      "[0.9375, 0.03125]\n",
      "[0.90625, 0.015625]\n",
      "[0.890625, 0.0078125]\n",
      "[0.8984375, 0.00390625]\n",
      "[0.89453125, 0.001953125]\n",
      "[0.892578125, 0.0009765625]\n",
      "[0.8935546875, 0.00048828125]\n",
      "[0.89404296875, 0.000244140625]\n",
      "[0.893798828125, 0.0001220703125]\n",
      "[0.8936767578125, 6.103515625e-5]\n",
      "[0.89373779296875, 3.0517578125e-5]\n",
      "["
     ]
    },
    {
     "name": "stdout",
     "output_type": "stream",
     "text": [
      "0.893768310546875, 1.52587890625e-5]\n",
      "[0.8937530517578125, 7.62939453125e-6]\n",
      "  0.134071 seconds (964 allocations: 43.289 KiB)\n"
     ]
    },
    {
     "data": {
      "text/plain": [
       "0.8937530517578125"
      ]
     },
     "metadata": {},
     "output_type": "display_data"
    }
   ],
   "source": [
    "#Ejemplo 1\n",
    "f(x) = exp(x) - sin(3*x) -2\n",
    "@time biseccion(f, 0,1)"
   ]
  },
  {
   "cell_type": "code",
   "execution_count": 42,
   "metadata": {},
   "outputs": [
    {
     "name": "stdout",
     "output_type": "stream",
     "text": [
      "[3.5, 0.25]\n",
      "[3.75, 0.125]\n",
      "[3.625, 0.0625]\n",
      "[3.5625, 0.03125]\n",
      "[3.59375, 0.015625]\n",
      "[3.609375, 0.0078125]\n",
      "[3.6015625, 0.00390625]\n",
      "[3.59765625, 0.001953125]\n",
      "[3.595703125, 0.0009765625]\n",
      "[3.5966796875, 0.00048828125]\n",
      "[3.59716796875, 0.000244140625]\n",
      "[3.597412109375, 0.0001220703125]\n",
      "[3.5972900390625, 6.103515625e-5]\n",
      "[3.59722900390625, 3.0517578125e-5]\n",
      "[3.597259521484375, 1.52587890625e-5]\n",
      "[3.5972747802734375, 7.62939453125e-6]\n",
      "  0.077494 seconds (742 allocations: 33.531 KiB)\n"
     ]
    },
    {
     "data": {
      "text/plain": [
       "3.5972747802734375"
      ]
     },
     "metadata": {},
     "output_type": "display_data"
    }
   ],
   "source": [
    "#Ejemplo 2\n",
    "h(x) = x^x - 100\n",
    "@time biseccion(h,3,4)"
   ]
  },
  {
   "cell_type": "markdown",
   "metadata": {},
   "source": [
    "METODO DE NEWTON \n",
    "\n",
    "El método de Newton es una técnica de aproximación a la solución de una ecuación. Su objetivo es producir una sucesión de aproximaciones que se acerquen a la solución siguiendo la siguiente formula:\n",
    "\n",
    "Xn+1 = x1 – f(X1)/f’(X1)\n",
    "\n",
    "Donde se necesita un x0 como punto de partida, donde x0 debe ser cercano a la solución que se esta buscando \n"
   ]
  },
  {
   "cell_type": "code",
   "execution_count": 2,
   "metadata": {},
   "outputs": [
    {
     "data": {
      "text/plain": [
       "newton (generic function with 2 methods)"
      ]
     },
     "metadata": {},
     "output_type": "display_data"
    }
   ],
   "source": [
    "function newton(f :: Function, fprima :: Function, x0 :: Number,tol :: AbstractFloat = 1e-5) #parametros: fuancion, derivada, la tolerancia\n",
    "    iter = 100 #Numero maximo de iteraciones\n",
    "    x1 = 0 # variable inicializada\n",
    "    error = Inf\n",
    "    n = 0\n",
    "    while error > tol #Ciclo que realiza el metodo iterativo\n",
    "        x1 = x0 - (f(x0)/fprima(x0)) #Formula\n",
    "        error = abs((x1-x0)/x1) #Calculo del error en cada iteracion\n",
    "        println([x1, error])\n",
    "        n = n +1\n",
    "        x0 = x1 #Nuevo valor para la siguiente iteracion\n",
    "        if n > iter\n",
    "            break\n",
    "        end     \n",
    "    end\n",
    "\n",
    "    return x1\n",
    "end"
   ]
  },
  {
   "cell_type": "code",
   "execution_count": 7,
   "metadata": {},
   "outputs": [
    {
     "name": "stdout",
     "output_type": "stream",
     "text": [
      "[-0.5, 1.0]\n",
      "[0.5041978670673344, 1.9916741673427711]\n",
      "[1.4106909287586844, 0.6425879994060815]\n",
      "[0.8663601753135157, 0.6282961393605009]\n",
      "[0.8942633257742176, 0.031202387100627737]\n",
      "[0.8937456055848646, 0.0005792701929026413]\n",
      "[0.8937454375353657, 1.8802837118305117e-7]\n",
      "  0.051243 seconds (414 allocations: 17.844 KiB)\n"
     ]
    },
    {
     "data": {
      "text/plain": [
       "0.8937454375353657"
      ]
     },
     "metadata": {},
     "output_type": "display_data"
    }
   ],
   "source": [
    "#Ejemplo 1\n",
    "f(x) = exp(x) - sin(3*x) -2\n",
    "fprima(x) = exp(x) - 3*cos(3*x)\n",
    "@time newton(f,fprima,0)"
   ]
  },
  {
   "cell_type": "code",
   "execution_count": 6,
   "metadata": {},
   "outputs": [
    {
     "name": "stdout",
     "output_type": "stream",
     "text": [
      "[-0.5000000000432259, 1.0]\n",
      "[0.5041978660759487, 1.9916741693783953]\n",
      "[1.4106909351888743, 0.6425880017379975]\n",
      "[0.8663601728305569, 0.6282961514492171]\n",
      "[0.8942633258728754, 0.031202389984049384]\n",
      "[0.8937456055849168, 0.0005792703032310584]\n",
      "[0.8937454375353656, 1.880284296913269e-7]\n",
      "  0.020565 seconds (422 allocations: 17.672 KiB)\n"
     ]
    },
    {
     "data": {
      "text/plain": [
       "0.8937454375353656"
      ]
     },
     "metadata": {},
     "output_type": "display_data"
    }
   ],
   "source": [
    "#Ejemplo 1.1\n",
    "using Calculus\n",
    "@time newton(f,derivative(f),0)"
   ]
  },
  {
   "cell_type": "code",
   "execution_count": 8,
   "metadata": {},
   "outputs": [
    {
     "name": "stdout",
     "output_type": "stream",
     "text": [
      "[3.60950982157403, 0.03033925019942883]\n",
      "[3.5974629076846942, 0.003348724976038546]\n",
      "[3.5972850615398895, 4.943899128434103e-5]\n",
      "[3.5972850235404192, 1.0563374875334039e-8]\n",
      "  0.017113 seconds (228 allocations: 9.625 KiB)\n"
     ]
    },
    {
     "data": {
      "text/plain": [
       "3.5972850235404192"
      ]
     },
     "metadata": {},
     "output_type": "display_data"
    }
   ],
   "source": [
    "#EJEMPLO 2 \n",
    "h(x) = x^x - 100\n",
    "hprima(x) = x^x*(1+log(x))\n",
    "@time newton(h,hprima,3.5)\n",
    "\n"
   ]
  },
  {
   "cell_type": "code",
   "execution_count": 9,
   "metadata": {},
   "outputs": [
    {
     "name": "stdout",
     "output_type": "stream",
     "text": [
      "[3.6095098215252737, 0.03033925018633084]\n",
      "[3.597462907689002, 0.00334872496128408]\n",
      "[3.597285061539975, 4.9438992457990556e-5]\n",
      "[3.5972850235404192, 1.0563398701418694e-8]\n",
      "  0.014056 seconds (220 allocations: 9.625 KiB)\n"
     ]
    },
    {
     "data": {
      "text/plain": [
       "3.5972850235404192"
      ]
     },
     "metadata": {},
     "output_type": "display_data"
    }
   ],
   "source": [
    "#Ejemplo 2.1\n",
    "@time newton(h,derivative(h),3.5)"
   ]
  },
  {
   "cell_type": "markdown",
   "metadata": {},
   "source": [
    "En el ejemplo 1.1 y 2.1 del método de newton se midió la velocidad de ejecución del método, pero ahora con la derivada calculada directamente por una librería de julia en vez de ponerla como parámetro directamente, al ver el tiempo de ejecución podemos notar que usando la librería “Calculus” el método se ejecuta un poco más rápido.\n",
    "\n",
    "Finalmente, comparando las velocidades de ejecución del método de bisección y newton, el método que resulta más eficiente es el de newton, esto se debe a que en  los ejemplos presentado no es difícil deducir un punto cercano a la solución, por ejemplo, en el caso 2 teníamos la ecuación x^x – 100 = 0, sabiendo que 3^3 es 27 y 4^4 es 256 podemos deducir que la solución debe estar entre 3 y 4, como newton necesita un punto podemos escoger directamente el punto medio, mientras que con el método de bisección necesitamos todo el intervalo.\n",
    "\n",
    "En el caso en que sea muy difícil deducir una solución para la ecuación o en donde la solución este en un intervalo muy grande debería ser mas eficiente el método de bisección.\n"
   ]
  }
 ],
 "metadata": {
  "kernelspec": {
   "display_name": "Julia 1.9.2",
   "language": "julia",
   "name": "julia-1.9"
  },
  "language_info": {
   "file_extension": ".jl",
   "mimetype": "application/julia",
   "name": "julia",
   "version": "1.9.2"
  },
  "orig_nbformat": 4
 },
 "nbformat": 4,
 "nbformat_minor": 2
}
